{
 "cells": [
  {
   "cell_type": "markdown",
   "metadata": {},
   "source": [
    "variance of $r\\sim\\mathcal{U}(a,b)$: $\\frac{1}{12} (b-a)^2$ (remember that if $\\mathcal{U}(0,1)$ its variance is $\\int_{0}^{1}(x-\\frac{1}{2})^2dx=\\frac{1}{12}$)\n",
    "\n",
    "notes\n",
    "\n",
    "[variance of the sum or difference is the sum of their variances](http://www.stat.yale.edu/Courses/1997-98/101/rvmnvar.htm)\n",
    "\n",
    "[Variance of product of multiple random variables](https://stats.stackexchange.com/questions/52646/variance-of-product-of-multiple-random-variables)\n",
    "\n",
    "$$var(X_1,...nX_n)=\\prod_{i=1}^n (var(X_i)+(E[X_i])^2)+\\prod_{i=1}^n\n",
    "(E[X_i])^2$$\n"
   ]
  },
  {
   "cell_type": "markdown",
   "metadata": {},
   "source": [
    "prezzi ....... media a coppie | senza struttura\n",
    "\n",
    "ogni prezzo eveolve con delle moltiplicazioni    <= | =>\n",
    "\n",
    "poi la somma e la media\n"
   ]
  },
  {
   "cell_type": "markdown",
   "metadata": {},
   "source": [
    "### altra strada\n",
    "\n",
    "var di un vettore di $N$ elementi, ciascuno somma di 2\n",
    "\n",
    "gli addendi sono serie di $T$ moltiplicationi di valori $r\\sim\\mathcal{U}(1/(1+d),1+d)$\n",
    "\n",
    "\n"
   ]
  },
  {
   "cell_type": "code",
   "execution_count": 204,
   "metadata": {},
   "outputs": [],
   "source": [
    "import statistics as s\n",
    "import numpy as np\n",
    "\n",
    "def simVar(N,T,d):\n",
    "    v=[]\n",
    "    for n in range(2*N):\n",
    "        r=np.random.uniform(-d,d)\n",
    "        if r >=0: v.append(1 + r)\n",
    "        else:     v.append(1/(1 - r)) # r < 0\n",
    "    for t in range(T): #NB T-1 cycles\n",
    "        for n in range(2*N):\n",
    "            r=np.random.uniform(-d,d)\n",
    "            if r >=0: v[n]*=1 + r\n",
    "            else:     v[n]*=1/(1 - r) # r < 0\n",
    "    for n in range(0,2*N,2):\n",
    "        m=(v[n]+v[n+1])/2\n",
    "        v[n]=m\n",
    "        v[n+1]=m\n",
    "    vv=[]\n",
    "    for n in range(0,2*N,2):\n",
    "        vv.append(v[n])\n",
    "    print(s.variance(vv))\n",
    "    plt.hist(vv,100)\n"
   ]
  },
  {
   "cell_type": "code",
   "execution_count": 205,
   "metadata": {},
   "outputs": [
    {
     "name": "stdout",
     "output_type": "stream",
     "text": [
      "1.6288668174267747e+23\n"
     ]
    },
    {
     "data": {
      "image/png": "[encoded data removed]",
      "text/plain": [
       "<Figure size 432x288 with 1 Axes>"
      ]
     },
     "metadata": {},
     "output_type": "display_data"
    }
   ],
   "source": [
    "simVar(100,10000,0.2)"
   ]
  },
  {
   "cell_type": "code",
   "execution_count": 222,
   "metadata": {},
   "outputs": [
    {
     "name": "stdout",
     "output_type": "stream",
     "text": [
      "[2.1728992064840177e-07, 9.008135082188204e-07, 6.7545002931575875e-06, 7.99829037226759e-06, 2.2938340960712836e-05, 4.117990725642825e-05, 5.23765513219578e-05, 0.00012549794842138735, 0.0005719479627938209, 0.0006046302617712368, 0.0007556606273828761, 0.0009462461537227607, 0.0011143970057206623, 0.00124713176068901, 0.0013510462373970686, 0.0015413515718747943, 0.0022194234081827423, 0.0023405799523939937, 0.0035628809693688326, 0.0045142543996927135, 0.006567192365648263, 0.00949619695477605, 0.01228041129293005, 0.015505037766215405, 0.02041198546988987, 0.022914982876718934, 0.027126073899633056, 0.04392162351179865, 0.05719502076134313, 0.06176645063743647, 0.0736545871750105, 0.10497585118018654, 0.11530622097907887, 0.12875143845289644, 0.13019576868763794, 0.13416188491496658, 0.18219430584271598, 0.25625217178645543, 0.3282847972665506, 0.3907465172955706, 0.4151591197090932, 0.42123023885879873, 0.4468387646238892, 0.49502275021613124, 0.7473132029238626, 0.9257957475871869, 0.9345456085427856, 0.9587336335453188, 0.9799018442322148, 1.3844769493075615, 1.4999865798578305, 1.6252878695334678, 1.6643246063757222, 1.8030564077212632, 2.443384503742915, 2.492044273109841, 2.7482189004421644, 2.9419882486369384, 3.037798351207029, 3.279720477214571, 3.6168785585727656, 3.971615136472749, 4.097762886965552, 4.499117172499258, 4.718346529683707, 6.281008510489739, 8.765074073868023, 9.744485789803553, 11.070470722688492, 11.155681000088864, 13.334514794955886, 22.544741570392645, 23.421035585305194, 24.989080234482515, 29.752166814107298, 30.530156221960002, 36.69489302349294, 40.84591586499951, 41.570783245898625, 44.57536453561746, 56.84040141138083, 64.70136218609672, 65.86486306039404, 70.6537053676177, 76.38654550373238, 238.6590388117169, 283.8350559477357, 356.7108087410793, 439.1386978830523, 663.5763718573486, 1245.3872340099283, 1514.5486115954368, 2082.653091114756, 7845.957917376518, 7904.796869699339, 18503.3181303637, 193367.61118312262, 213115.01837327715, 665249.8469082521, 17400378.963245615]\n",
      "100 3029003762266.8276\n"
     ]
    }
   ],
   "source": [
    "v=[]\n",
    "for k in range(100):\n",
    " a=1\n",
    " d=0.1\n",
    " for t in range(10000):\n",
    "    r=np.random.uniform(-d,d)\n",
    "    if r >=0: a*=1+r\n",
    "    else:     a*=1/(1-r) # r < \n",
    " v.append(a)\n",
    "v.sort()\n",
    "print(v)\n",
    "print(len(v),s.variance(v))"
   ]
  },
  {
   "cell_type": "code",
   "execution_count": 196,
   "metadata": {},
   "outputs": [
    {
     "name": "stdout",
     "output_type": "stream",
     "text": [
      "6.952505188281978e+23\n"
     ]
    },
    {
     "data": {
      "image/png": "[encoded data removed]",
      "text/plain": [
       "<Figure size 432x288 with 1 Axes>"
      ]
     },
     "metadata": {},
     "output_type": "display_data"
    }
   ],
   "source": [
    "import pylab as plt\n",
    "v=[]\n",
    "d=0.2\n",
    "for n in range(100):\n",
    "    a=1\n",
    "    for t in range(10000):\n",
    "        r=np.random.uniform(-d,d)\n",
    "        if r >=0: a*=1+r\n",
    "        else:     a*=1/(1-r) # r < \n",
    "    v.append(a)\n",
    "#print(v)\n",
    "print(s.variance(v))\n",
    "plt.hist(v,100);"
   ]
  },
  {
   "cell_type": "code",
   "execution_count": 197,
   "metadata": {},
   "outputs": [],
   "source": [
    "v.sort()"
   ]
  },
  {
   "cell_type": "code",
   "execution_count": 198,
   "metadata": {},
   "outputs": [
    {
     "data": {
      "text/plain": [
       "[1.0192905681176519e-13,\n",
       " 2.147816400552862e-11,\n",
       " 1.1118094662974575e-10,\n",
       " 1.430669643215411e-10,\n",
       " 1.6036747071834545e-10,\n",
       " 5.600788653019684e-10,\n",
       " 1.2984336992016177e-09,\n",
       " 1.8956740980938653e-09,\n",
       " 6.132874884580767e-09,\n",
       " 1.5469463481372007e-08,\n",
       " 3.916104235782118e-08,\n",
       " 1.8703116185137773e-07,\n",
       " 2.875921276238028e-07,\n",
       " 3.589522132792037e-07,\n",
       " 6.13819243667819e-07,\n",
       " 2.162229606197825e-06,\n",
       " 5.652389642935881e-06,\n",
       " 8.954571352943242e-06,\n",
       " 1.4138878715454511e-05,\n",
       " 3.195384250302434e-05,\n",
       " 3.255784935530749e-05,\n",
       " 3.694769532768664e-05,\n",
       " 6.608961809691344e-05,\n",
       " 0.00010869652536523775,\n",
       " 0.000112365039969409,\n",
       " 0.00013183014461344797,\n",
       " 0.00013802998309514608,\n",
       " 0.0001464869456204795,\n",
       " 0.00015158503438031628,\n",
       " 0.0005315156007604708,\n",
       " 0.0006041502447838117,\n",
       " 0.0006807077473204753,\n",
       " 0.0023804430838041367,\n",
       " 0.003101227571462016,\n",
       " 0.007427657379896226,\n",
       " 0.013928665852057445,\n",
       " 0.01422898176316365,\n",
       " 0.014589284571141087,\n",
       " 0.015121750928916457,\n",
       " 0.022562615619939375,\n",
       " 0.023060975048846466,\n",
       " 0.024261370043356035,\n",
       " 0.03097709459568321,\n",
       " 0.04029350872041194,\n",
       " 0.04069566428217471,\n",
       " 0.04312756757916801,\n",
       " 0.059064254167271665,\n",
       " 0.06596699930360998,\n",
       " 0.06743004727782359,\n",
       " 0.07075543517153292,\n",
       " 0.07687229894100019,\n",
       " 0.124986349959551,\n",
       " 0.1727304507139627,\n",
       " 0.17816338078056257,\n",
       " 0.2559339666274859,\n",
       " 0.57395957672733,\n",
       " 1.3956978970847786,\n",
       " 2.327760382626645,\n",
       " 2.533293648138151,\n",
       " 3.6470644823339957,\n",
       " 3.6607048071137767,\n",
       " 4.132755693762608,\n",
       " 5.40432019057088,\n",
       " 7.669584689719172,\n",
       " 14.281898504335288,\n",
       " 14.464739266992254,\n",
       " 14.600023803817002,\n",
       " 17.497776366106034,\n",
       " 20.4834278827626,\n",
       " 20.914657374551012,\n",
       " 23.018350265055787,\n",
       " 25.677733508002426,\n",
       " 26.259884090635172,\n",
       " 42.74931221587623,\n",
       " 43.27607369708571,\n",
       " 49.206288004025595,\n",
       " 57.70783037206828,\n",
       " 69.87881072922825,\n",
       " 105.19075550613552,\n",
       " 106.32593643245049,\n",
       " 283.30647049328036,\n",
       " 347.1762172267718,\n",
       " 2515.9458640662087,\n",
       " 5169.35930580101,\n",
       " 9349.955634809909,\n",
       " 18164.659811912356,\n",
       " 29352.996717011087,\n",
       " 32151.336970972996,\n",
       " 37804.195509685494,\n",
       " 82471.6852730314,\n",
       " 156082.35252424917,\n",
       " 164758.32761006232,\n",
       " 271088.03286398365,\n",
       " 280929.32533851825,\n",
       " 2551859.8940271023,\n",
       " 6189582.571652886,\n",
       " 31178382.817268863,\n",
       " 45434248.40030568,\n",
       " 3276059333.525072,\n",
       " 8338201698319.188]"
      ]
     },
     "execution_count": 198,
     "metadata": {},
     "output_type": "execute_result"
    }
   ],
   "source": [
    "v"
   ]
  },
  {
   "cell_type": "code",
   "execution_count": 194,
   "metadata": {},
   "outputs": [
    {
     "data": {
      "text/plain": [
       "0.9999999999999999"
      ]
     },
     "execution_count": 194,
     "metadata": {},
     "output_type": "execute_result"
    }
   ],
   "source": [
    "(1.05**10)*(1/1.05**10)"
   ]
  },
  {
   "cell_type": "code",
   "execution_count": null,
   "metadata": {},
   "outputs": [],
   "source": []
  },
  {
   "cell_type": "code",
   "execution_count": null,
   "metadata": {},
   "outputs": [],
   "source": []
  }
 ],
 "metadata": {
  "kernelspec": {
   "display_name": "Python 3",
   "language": "python",
   "name": "python3"
  },
  "language_info": {
   "codemirror_mode": {
    "name": "ipython",
    "version": 3
   },
   "file_extension": ".py",
   "mimetype": "text/x-python",
   "name": "python",
   "nbconvert_exporter": "python",
   "pygments_lexer": "ipython3",
   "version": "3.7.0"
  }
 },
 "nbformat": 4,
 "nbformat_minor": 2
}
