{
 "cells": [
  {
   "cell_type": "markdown",
   "metadata": {},
   "source": [
    "variance of $r\\sim\\mathcal{U}(a,b)$: $\\frac{1}{12} (b-a)^2$\n",
    "\n",
    "notes\n",
    "\n",
    "[variance of the sum or difference is the sum of their variances](http://www.stat.yale.edu/Courses/1997-98/101/rvmnvar.htm)\n",
    "\n",
    "[Variance of product of multiple random variables](https://stats.stackexchange.com/questions/52646/variance-of-product-of-multiple-random-variables)"
   ]
  },
  {
   "cell_type": "code",
   "execution_count": null,
   "metadata": {},
   "outputs": [],
   "source": []
  }
 ],
 "metadata": {
  "kernelspec": {
   "display_name": "Python 3",
   "language": "python",
   "name": "python3"
  },
  "language_info": {
   "codemirror_mode": {
    "name": "ipython",
    "version": 3
   },
   "file_extension": ".py",
   "mimetype": "text/x-python",
   "name": "python",
   "nbconvert_exporter": "python",
   "pygments_lexer": "ipython3",
   "version": "3.7.0"
  }
 },
 "nbformat": 4,
 "nbformat_minor": 2
}
