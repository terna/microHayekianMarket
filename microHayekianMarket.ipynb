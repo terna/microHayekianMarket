{
 "cells": [
  {
   "cell_type": "markdown",
   "metadata": {},
   "source": [
    "nBuyers  - number of the buyers\n",
    "\n",
    "nSellers - number of the sellers\n",
    "\n",
    "initial buyer $i$ reservation price, different for each buyer: $p_{b,i}=\\frac{1} {1 + u_i}$ with $u_i\\sim\\mathcal{U}(0,0.1)$\n",
    "\n",
    "initial seller j reservation price, different for each seller: $p_{b,j}=1 + u_j$ with $u_j\\sim\\mathcal{U}(0,0.1)$"
   ]
  },
  {
   "cell_type": "code",
   "execution_count": null,
   "metadata": {},
   "outputs": [],
   "source": [
    "%pylab inline\n",
    "import statistics as s\n",
    "import numpy as np\n",
    "import pylab as plt\n",
    "from IPython.display import clear_output\n",
    "from ipykernel.pylab.backend_inline import flush_figures\n",
    "import time"
   ]
  },
  {
   "cell_type": "code",
   "execution_count": null,
   "metadata": {},
   "outputs": [],
   "source": [
    "nBuyers=100\n",
    "nSellers=100\n",
    "\n",
    "buyerPriceList=[]\n",
    "sellerPriceList=[]\n",
    "\n",
    "for i in range(nBuyers):\n",
    "    buyerPriceList.append(1/(1+np.random.uniform(0,0.1)))\n",
    "for j in range(nSellers):\n",
    "    sellerPriceList.append(1+np.random.uniform(0,0.1))\n",
    "    \n",
    "plt.plot(np.sort(buyerPriceList)[::-1],\"r\")\n",
    "plt.plot(np.sort(sellerPriceList),\"b\")"
   ]
  },
  {
   "cell_type": "code",
   "execution_count": null,
   "metadata": {},
   "outputs": [],
   "source": [
    "for t in range(1,1000):    \n",
    "    dealPrices=[]\n",
    "    for n in range(100):\n",
    "        i = np.random.randint(0,99)\n",
    "        j = np.random.randint(0,99)\n",
    "        if buyerPriceList[i]>=sellerPriceList[j]:\n",
    "            dealPrices.append(sellerPriceList[j])\n",
    "            buyerPriceList[i] *=1/(1+np.random.uniform(0,0.01))\n",
    "            sellerPriceList[j]*=1+np.random.uniform(0,0.01)\n",
    "        else:\n",
    "            buyerPriceList[i] *=1+np.random.uniform(0,0.01)\n",
    "            sellerPriceList[j]*=1/(1+np.random.uniform(0,0.01))\n",
    "\n",
    "    if t % 10==0:\n",
    "        clear_output()\n",
    "        flush_figures()\n",
    "        print('time', t, 'n. of exchanges', len(dealPrices))\n",
    "        if len(dealPrices) > 2:\n",
    "            print('mean and stdev of exchange prices: %.3f, %.3f' %\\\n",
    "            (s.mean(dealPrices),s.stdev(dealPrices)))\n",
    "        plt.plot(np.sort(buyerPriceList)[::-1],\"r\")\n",
    "        plt.plot(np.sort(sellerPriceList),\"b\")\n",
    "        time.sleep(0.1)"
   ]
  },
  {
   "cell_type": "code",
   "execution_count": null,
   "metadata": {},
   "outputs": [],
   "source": [
    "plt.plot(np.sort(buyerPriceList)[::-1],\"r\")\n",
    "plt.plot(np.sort(sellerPriceList),\"b\")"
   ]
  },
  {
   "cell_type": "code",
   "execution_count": null,
   "metadata": {},
   "outputs": [],
   "source": []
  }
 ],
 "metadata": {
  "kernelspec": {
   "display_name": "Python 3",
   "language": "python",
   "name": "python3"
  },
  "language_info": {
   "codemirror_mode": {
    "name": "ipython",
    "version": 3
   },
   "file_extension": ".py",
   "mimetype": "text/x-python",
   "name": "python",
   "nbconvert_exporter": "python",
   "pygments_lexer": "ipython3",
   "version": "3.7.0"
  }
 },
 "nbformat": 4,
 "nbformat_minor": 2
}
