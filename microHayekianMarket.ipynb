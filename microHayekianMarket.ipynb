{
 "cells": [
  {
   "cell_type": "markdown",
   "metadata": {},
   "source": [
    "nCycles - number of simuation cyces\n",
    "nBuyers  - number of the buyers\n",
    "\n",
    "nSellers - number of the sellers\n",
    "\n",
    "initial buyer $i$ reservation price, different for each buyer: $p_{b,i}=\\frac{1} {1 + u_i}$ with $u_i\\sim\\mathcal{U}(0,0.1)$\n",
    "\n",
    "initial seller j reservation price, different for each seller: $p_{b,j}=1 + u_j$ with $u_j\\sim\\mathcal{U}(0,0.1)$"
   ]
  },
  {
   "cell_type": "code",
   "execution_count": null,
   "metadata": {
    "scrolled": false
   },
   "outputs": [],
   "source": [
    "%pylab inline\n",
    "import statistics as s\n",
    "import numpy as np\n",
    "import pylab as plt\n",
    "from IPython.display import clear_output\n",
    "#from IPython import display\n",
    "from ipykernel.pylab.backend_inline import flush_figures\n",
    "import time"
   ]
  },
  {
   "cell_type": "code",
   "execution_count": null,
   "metadata": {
    "scrolled": false
   },
   "outputs": [],
   "source": [
    "nCycles=10000\n",
    "nBuyers= 100\n",
    "nSellers=100\n",
    "\n",
    "buyerPriceList=[]\n",
    "sellerPriceList=[]\n",
    "\n",
    "for i in range(nBuyers):\n",
    "    buyerPriceList.append(1/(1+np.random.uniform(0.1,0.2)))\n",
    "for j in range(nSellers):\n",
    "    sellerPriceList.append(1+np.random.uniform(0.1,0.2))\n",
    "    \n",
    "plt.plot(np.sort(buyerPriceList)[::-1],\"r\")\n",
    "plt.plot(np.sort(sellerPriceList),\"b\")"
   ]
  },
  {
   "cell_type": "code",
   "execution_count": null,
   "metadata": {
    "scrolled": false
   },
   "outputs": [],
   "source": [
    "meanPrice_ts=[]\n",
    "meanPriceStDev_ts=[]\n",
    "meanPriceVar_ts=[]\n",
    "\n",
    "for t in range(1,nCycles+1):    \n",
    "    dealPrices=[]\n",
    "    agNum=max(nBuyers,nSellers)\n",
    "    for n in range(agNum):\n",
    "        i = np.random.randint(0,nBuyers)\n",
    "        j = np.random.randint(0,nSellers)\n",
    "        #print ('%2d %2d %.3f %.3f %.3f'% (i,j,buyerPriceList[i]-sellerPriceList[j],\\\n",
    "        #                          buyerPriceList[i],sellerPriceList[j]))\n",
    "        if buyerPriceList[i]>=sellerPriceList[j]:\n",
    "            dealPrices.append(sellerPriceList[j])\n",
    "            buyerPriceList[i] *=1/(1+np.random.uniform(0,0.1))\n",
    "            sellerPriceList[j]*=1+np.random.uniform(0,0.1)\n",
    "        else:\n",
    "            buyerPriceList[i] *=1+np.random.uniform(0,0.2)\n",
    "            sellerPriceList[j]*=1/(1+np.random.uniform(0,0.2))\n",
    "\n",
    "        #print ('%2d %2d %.3f %.3f %.3f \\n'% (i,j,buyerPriceList[i]-sellerPriceList[j],\\\n",
    "        #                          buyerPriceList[i],sellerPriceList[j]))\n",
    "           \n",
    "    if len(dealPrices) > 2:\n",
    "        meanPrice_ts.append(s.mean(dealPrices))\n",
    "        meanPriceVar_ts.append(s.variance(dealPrices))\n",
    "        meanPriceStDev_ts.append(s.stdev(dealPrices))\n",
    "    else:\n",
    "        meanPrice_ts.append(np.nan)\n",
    "        meanPriceStDev_ts.append(np.nan)\n",
    "\n",
    "    if t % 1000==0:\n",
    "        clear_output()\n",
    "        #flush_figures()\n",
    "        print('time', t, 'n. of exchanges', len(dealPrices))\n",
    "        print('mean and var of exchange prices in the last cycle: %.3f, %.3f' %\\\n",
    "              (meanPrice_ts[-1],meanPriceVar_ts[-1]))\n",
    "\n",
    "        plt.figure(1,figsize=(7,9),clear=True)\n",
    "        plt.subplot(311)\n",
    "        plt.plot(np.sort(buyerPriceList)[::-1],\"r\")\n",
    "        plt.plot(np.sort(sellerPriceList),\"b\")\n",
    "        plt.subplot(312)\n",
    "        plt.plot(meanPrice_ts,\"g\")\n",
    "        plt.subplot(313)\n",
    "        coefOfVariation=[]\n",
    "        for m in range(len(meanPriceStDev_ts)):\n",
    "            coefOfVariation.append(meanPriceStDev_ts[m]/\n",
    "                                   meanPrice_ts[m])\n",
    "        plt.plot(coefOfVariation,\".\",markersize=0.1)\n",
    "        show()\n",
    "        #time.sleep(0.1)\n"
   ]
  },
  {
   "cell_type": "code",
   "execution_count": null,
   "metadata": {
    "scrolled": false
   },
   "outputs": [],
   "source": []
  }
 ],
 "metadata": {
  "kernelspec": {
   "display_name": "Python 3",
   "language": "python",
   "name": "python3"
  },
  "language_info": {
   "codemirror_mode": {
    "name": "ipython",
    "version": 3
   },
   "file_extension": ".py",
   "mimetype": "text/x-python",
   "name": "python",
   "nbconvert_exporter": "python",
   "pygments_lexer": "ipython3",
   "version": "3.7.0"
  }
 },
 "nbformat": 4,
 "nbformat_minor": 2
}
