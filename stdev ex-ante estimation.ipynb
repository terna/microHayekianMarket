{
 "cells": [
  {
   "cell_type": "markdown",
   "metadata": {},
   "source": [
    "variance of $r\\sim\\mathcal{U}(a,b)$: $\\frac{1}{12} (b-a)^2$ (remember that if $\\mathcal{U}(0,1)$ its variance is $\\int_{0}^{1}(x-\\frac{1}{2})^2dx=\\frac{1}{12}$)\n",
    "\n",
    "notes\n",
    "\n",
    "[variance of the sum or difference is the sum of their variances](http://www.stat.yale.edu/Courses/1997-98/101/rvmnvar.htm)\n",
    "\n",
    "[Variance of product of multiple random variables](https://stats.stackexchange.com/questions/52646/variance-of-product-of-multiple-random-variables)\n",
    "\n",
    "$$var(X_1,...nX_n)=\\prod_{i=1}^n (var(X_i)+(E[X_i])^2)+\\prod_{i=1}^n\n",
    "(E[X_i])^2$$\n"
   ]
  },
  {
   "cell_type": "markdown",
   "metadata": {},
   "source": [
    "prezzi ....... media a coppie | senza struttura\n",
    "\n",
    "ogni prezzo eveolve con delle moltiplicazioni    <= | =>\n",
    "\n",
    "poi la somma\n",
    "\n",
    "\n",
    "es. anno 5 cinque moltiplicazoni di U tra 0.8 e 1.2 e poi la somma tra due"
   ]
  },
  {
   "cell_type": "code",
   "execution_count": 2,
   "metadata": {},
   "outputs": [],
   "source": [
    "def v(a,b):\n",
    "    return ((b - a)**2)/12\n",
    "def m(a,b):\n",
    "    return (a + b)/2"
   ]
  },
  {
   "cell_type": "code",
   "execution_count": 10,
   "metadata": {},
   "outputs": [],
   "source": [
    "def varVec(num,V,M):\n",
    "    pV=1\n",
    "    for i in range(num):\n",
    "        pV*=V+M**2\n",
    "    pM=M**(2+num)\n",
    "    \n",
    "    return pV + pM"
   ]
  },
  {
   "cell_type": "code",
   "execution_count": 16,
   "metadata": {},
   "outputs": [
    {
     "data": {
      "text/plain": [
       "565365.9608612737"
      ]
     },
     "execution_count": 16,
     "metadata": {},
     "output_type": "execute_result"
    }
   ],
   "source": [
    "varVec(1000,v(0.8,1.2),m(0.8,1.2))"
   ]
  },
  {
   "cell_type": "code",
   "execution_count": 22,
   "metadata": {},
   "outputs": [
    {
     "data": {
      "text/plain": [
       "0.013333333333333327"
      ]
     },
     "execution_count": 22,
     "metadata": {},
     "output_type": "execute_result"
    }
   ],
   "source": [
    "v(0.8,1.2)"
   ]
  },
  {
   "cell_type": "code",
   "execution_count": 23,
   "metadata": {},
   "outputs": [
    {
     "data": {
      "text/plain": [
       "3.336482804340903e+57"
      ]
     },
     "execution_count": 23,
     "metadata": {},
     "output_type": "execute_result"
    }
   ],
   "source": [
    "(_ + 1)**10000"
   ]
  },
  {
   "cell_type": "code",
   "execution_count": null,
   "metadata": {},
   "outputs": [],
   "source": []
  }
 ],
 "metadata": {
  "kernelspec": {
   "display_name": "Python 3",
   "language": "python",
   "name": "python3"
  },
  "language_info": {
   "codemirror_mode": {
    "name": "ipython",
    "version": 3
   },
   "file_extension": ".py",
   "mimetype": "text/x-python",
   "name": "python",
   "nbconvert_exporter": "python",
   "pygments_lexer": "ipython3",
   "version": "3.7.0"
  }
 },
 "nbformat": 4,
 "nbformat_minor": 2
}
