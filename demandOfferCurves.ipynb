{
 "cells": [
  {
   "cell_type": "markdown",
   "metadata": {},
   "source": [
    "$nCycles$ - number of simulation cycles\n",
    "\n",
    "$nBuyers$  - number of the buyers\n",
    "\n",
    "$nSellers$ - number of the sellers\n",
    "\n",
    "$seed$ - the seed of the random numbers\n",
    "\n",
    "$d_{1a}$ - the lower bound for random uniform numbers, for the buyers\n",
    "\n",
    "$d_{1b}$ - the upper bound for random uniform numbers for the buyers\n",
    "\n",
    "$d_{2a}$ - the lower bound for random uniform numbers, for the sellers\n",
    "\n",
    "$d_{2b}$ - the upper bound for random uniform numbers for the sellers\n",
    "\n",
    "initial buyer $i$ reservation price, different for each buyer: $p_{b,i}=\\frac{1} {1 + u_i}$ with $u_i\\sim\\mathcal{U}(d_{1a},d_{1b})$\n",
    "\n",
    "initial seller j reservation price, different for each seller: $p_{s,j}=1 + u_j$ with $u_j\\sim\\mathcal{U}(d_{2a},d_{2b})$\n"
   ]
  },
  {
   "cell_type": "code",
   "execution_count": 1,
   "metadata": {
    "scrolled": false
   },
   "outputs": [
    {
     "name": "stdout",
     "output_type": "stream",
     "text": [
      "Populating the interactive namespace from numpy and matplotlib\n"
     ]
    }
   ],
   "source": [
    "%pylab inline\n",
    "import numpy as np\n",
    "import pylab as plt"
   ]
  },
  {
   "cell_type": "code",
   "execution_count": 15,
   "metadata": {
    "scrolled": false
   },
   "outputs": [],
   "source": [
    "def plotCurves():\n",
    "\n",
    "    nBuyers= 10000\n",
    "    nSellers=10\n",
    "\n",
    "\n",
    "    seed=111\n",
    "    np.random.seed(seed)\n",
    "\n",
    "    d1a=-0.09\n",
    "    d2a=-0.01\n",
    "    d1b= 0.01\n",
    "    d2b= 0.09\n",
    "\n",
    "\n",
    "    buyerPriceList=[]\n",
    "    sellerPriceList=[]\n",
    "\n",
    "    for i in range(nBuyers):\n",
    "        eps=np.random.uniform(d1a,d1b)\n",
    "        if eps < 0:\n",
    "            buyerPriceList.append(1/(1+abs(eps)))\n",
    "        else:\n",
    "            buyerPriceList.append(1+eps)\n",
    "    for j in range(nSellers):\n",
    "        eps=np.random.uniform(d2a,d2b)\n",
    "        if eps < 0:\n",
    "            sellerPriceList.append(1/(1+abs(eps)))\n",
    "        else:\n",
    "            sellerPriceList.append(1+eps)\n",
    "    \n",
    "    fig =plt.figure(0)\n",
    "    ax1 = fig.add_subplot(111)\n",
    "    ax2 = ax1.twiny()\n",
    "    ax1.plot(sorted(buyerPriceList,reverse=True),\"r\");\n",
    "    ax2.plot(sorted(sellerPriceList),\"b\");\n",
    "    xlabel(\"the agents\");\n",
    "    ylabel(\"agents' reservation prices\");"
   ]
  },
  {
   "cell_type": "code",
   "execution_count": 16,
   "metadata": {},
   "outputs": [
    {
     "data": {
      "image/png": "[encoded data removed]",
      "text/plain": [
       "<Figure size 432x288 with 2 Axes>"
      ]
     },
     "metadata": {},
     "output_type": "display_data"
    }
   ],
   "source": [
    "plotCurves()"
   ]
  },
  {
   "cell_type": "code",
   "execution_count": null,
   "metadata": {},
   "outputs": [],
   "source": []
  }
 ],
 "metadata": {
  "kernelspec": {
   "display_name": "Python 3",
   "language": "python",
   "name": "python3"
  },
  "language_info": {
   "codemirror_mode": {
    "name": "ipython",
    "version": 3
   },
   "file_extension": ".py",
   "mimetype": "text/x-python",
   "name": "python",
   "nbconvert_exporter": "python",
   "pygments_lexer": "ipython3",
   "version": "3.7.0"
  }
 },
 "nbformat": 4,
 "nbformat_minor": 2
}
